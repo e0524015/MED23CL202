{
  "nbformat": 4,
  "nbformat_minor": 0,
  "metadata": {
    "colab": {
      "provenance": [],
      "authorship_tag": "ABX9TyNNbmZpf+XMwYhQ+Jy698d2",
      "include_colab_link": true
    },
    "kernelspec": {
      "name": "python3",
      "display_name": "Python 3"
    },
    "language_info": {
      "name": "python"
    }
  },
  "cells": [
    {
      "cell_type": "markdown",
      "metadata": {
        "id": "view-in-github",
        "colab_type": "text"
      },
      "source": [
        "<a href=\"https://colab.research.google.com/github/e0524015/MED23CL202/blob/main/Copy_of_List_processing_in_python.ipynb\" target=\"_parent\"><img src=\"https://colab.research.google.com/assets/colab-badge.svg\" alt=\"Open In Colab\"/></a>"
      ]
    },
    {
      "cell_type": "code",
      "execution_count": null,
      "metadata": {
        "id": "b4U1x70ndUUx"
      },
      "outputs": [],
      "source": []
    },
    {
      "cell_type": "markdown",
      "source": [
        "# **List Processing in Python**\n",
        "\n",
        "steps:\n",
        "1.Create a empty result list.\n",
        "2.Keep a total variable starting at 0\n",
        "4.Loop through each number.\n",
        "4.add to total,append total to result"
      ],
      "metadata": {
        "id": "ULsY8BoweRjK"
      }
    },
    {
      "cell_type": "code",
      "source": [
        "#Running sum\n",
        "def runningSum(nums):\n",
        "  result=[] #Empty result\n",
        "  total = 0 #initialize the total to 0\n",
        "  for n in nums: # start the loop for running sum\n",
        "    total += n# add the value to total\n",
        "    result.append(total) # append the sum to result list\n",
        "  return (result)\n",
        "\n",
        "print(runningSum([10,20,5,1]))"
      ],
      "metadata": {
        "colab": {
          "base_uri": "https://localhost:8080/"
        },
        "id": "GZjqoNz-ezkn",
        "outputId": "68db130d-368c-44f7-8463-fba5051cd856"
      },
      "execution_count": null,
      "outputs": [
        {
          "output_type": "stream",
          "name": "stdout",
          "text": [
            "[10, 30, 35, 36]\n"
          ]
        }
      ]
    },
    {
      "cell_type": "code",
      "source": [
        "#Running sum\n",
        "def Sum(nums):\n",
        "  total = 0 #initialize the total to 0\n",
        "  for n in nums: # start the loop for running sum\n",
        "    total += n# add the value to total\n",
        "  return (total)\n",
        "\n",
        "print(Sum([10,20,5,1]))"
      ],
      "metadata": {
        "colab": {
          "base_uri": "https://localhost:8080/"
        },
        "id": "8SAaztsdiNYn",
        "outputId": "ca8192b9-a9b7-480a-8a0c-749363dd1856"
      },
      "execution_count": null,
      "outputs": [
        {
          "output_type": "stream",
          "name": "stdout",
          "text": [
            "36\n"
          ]
        }
      ]
    },
    {
      "cell_type": "code",
      "source": [
        "#Count even number in a list\n",
        "#Count even numbers\n",
        "#sample input:[3,7,2,9,5]\n",
        "#expected output: 1\n",
        "\n",
        "def CountEven(nums):\n",
        "  count=0\n",
        "  for n in nums:\n",
        "    if n % 2 == 0:\n",
        "      count +=1\n",
        "  return count\n",
        "print(CountEven([3,7,2,9,5]))"
      ],
      "metadata": {
        "colab": {
          "base_uri": "https://localhost:8080/"
        },
        "id": "Mf61HhlYi5KO",
        "outputId": "af1ab597-132e-4022-9831-c2562c956388"
      },
      "execution_count": null,
      "outputs": [
        {
          "output_type": "stream",
          "name": "stdout",
          "text": [
            "1\n"
          ]
        }
      ]
    },
    {
      "cell_type": "code",
      "source": [
        "#Reverse a List\n",
        "# Reverse a list:\n",
        "# Input:[1,2,3,4]\n",
        "# Expected output: [4,3,2,1]\n",
        "\n",
        "def reverseList(nums):\n",
        "  return nums[::-1]\n",
        "print(reverseList([1,2,3,4]))\n",
        "\n",
        "### Slicing the list\n",
        "my_list = [10,5,1,0,67]\n",
        "# the list slices from the begining to end, taking every second element\n",
        "print(my_list[::3])"
      ],
      "metadata": {
        "colab": {
          "base_uri": "https://localhost:8080/"
        },
        "id": "IH0TKbJXk9M3",
        "outputId": "b8b5919f-57c2-47d1-d996-6ec9909fd8f8"
      },
      "execution_count": null,
      "outputs": [
        {
          "output_type": "stream",
          "name": "stdout",
          "text": [
            "[4, 3, 2, 1]\n",
            "[10, 0]\n"
          ]
        }
      ]
    },
    {
      "cell_type": "code",
      "source": [
        "# Find the maximum number in a list\n",
        "# Input: [3,7,2,9,5]\n",
        "# Expected output: 9\n",
        "\n",
        "def FindMax(nums):\n",
        "  max_num=nums[0] # Assign first of list as Maximum\n",
        "  for n in nums:\n",
        "    if n > max_num:\n",
        "      max_num = n\n",
        "  return max_num\n",
        "\n",
        "print(FindMax([3,7,2,9,5]))"
      ],
      "metadata": {
        "colab": {
          "base_uri": "https://localhost:8080/"
        },
        "id": "Wf-uS3jpoXj-",
        "outputId": "75f9a0d2-d510-4b0d-dd62-8df9ec44d53c"
      },
      "execution_count": null,
      "outputs": [
        {
          "output_type": "stream",
          "name": "stdout",
          "text": [
            "9\n"
          ]
        }
      ]
    },
    {
      "cell_type": "code",
      "source": [
        "# Merge two sorted list\n",
        "#Input: [1,3,5], [2,4,6]\n",
        "#Expected output: [1,2,3,4,5,6]\n",
        "\n",
        "def mergeList(list1,list2):\n",
        "  return sorted(list1+list2)\n",
        "\n",
        "print(mergeList([1,3,5],[2,4,6]))"
      ],
      "metadata": {
        "colab": {
          "base_uri": "https://localhost:8080/"
        },
        "id": "jfe6AKAQqx2f",
        "outputId": "fec702ef-dc5e-4763-9bfe-5a926a6e7491"
      },
      "execution_count": null,
      "outputs": [
        {
          "output_type": "stream",
          "name": "stdout",
          "text": [
            "[1, 2, 3, 4, 5, 6]\n"
          ]
        }
      ]
    },
    {
      "cell_type": "code",
      "source": [
        "# Square of the sorted list\n",
        "def SortedSquare(nums):\n",
        "  return sorted([x**2 for x in nums]) # List comprehension defines a list based on iteratables that is [x**2 for x in nums]\n",
        "print(SortedSquare([-4,-1,0,3,-50]))"
      ],
      "metadata": {
        "colab": {
          "base_uri": "https://localhost:8080/"
        },
        "id": "xt4Uyt_fsjqm",
        "outputId": "41e407ac-c624-4743-c1e7-322b3b104c68"
      },
      "execution_count": null,
      "outputs": [
        {
          "output_type": "stream",
          "name": "stdout",
          "text": [
            "[0, 1, 9, 16, 2500]\n"
          ]
        }
      ]
    },
    {
      "cell_type": "code",
      "source": [
        "def MaxDeposit(accounts):\n",
        "  return max(sum(cust)for cust in accounts)\n",
        "print(MaxDeposit([[100,52],[3,60]]))"
      ],
      "metadata": {
        "colab": {
          "base_uri": "https://localhost:8080/"
        },
        "id": "qnW9gnSQu7qg",
        "outputId": "058c0639-e202-4ed9-ad29-ec4d3ed3bf74"
      },
      "execution_count": null,
      "outputs": [
        {
          "output_type": "stream",
          "name": "stdout",
          "text": [
            "152\n"
          ]
        }
      ]
    },
    {
      "cell_type": "code",
      "source": [
        "#Find two indices where number add up to the target\n",
        "#Input: [2,7,11,15] num: 26\n",
        "#Expected Output: [2,3]\n",
        "\n",
        "def twoSum(nums,target):\n",
        "  #define a dictionary, a key value pair\n",
        "  seen = {}\n",
        "  for i,n in enumerate(nums):\n",
        "    diff = target-n\n",
        "    if diff in seen:\n",
        "      return[seen[diff],i]\n",
        "    seen[n]=i\n",
        "    print(seen)\n",
        "print(twoSum([2,7,11,15], 26))\n"
      ],
      "metadata": {
        "colab": {
          "base_uri": "https://localhost:8080/"
        },
        "id": "ustX4AVFwQk1",
        "outputId": "d731789c-4ab8-45be-d020-96d15a504248"
      },
      "execution_count": null,
      "outputs": [
        {
          "output_type": "stream",
          "name": "stdout",
          "text": [
            "{2: 0}\n",
            "{2: 0, 7: 1}\n",
            "{2: 0, 7: 1, 11: 2}\n",
            "[2, 3]\n"
          ]
        }
      ]
    }
  ]
}