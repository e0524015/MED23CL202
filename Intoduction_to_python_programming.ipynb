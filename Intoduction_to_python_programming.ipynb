{
  "nbformat": 4,
  "nbformat_minor": 0,
  "metadata": {
    "colab": {
      "provenance": [],
      "authorship_tag": "ABX9TyNvvE+YoXtutEU0E4AhmNis",
      "include_colab_link": true
    },
    "kernelspec": {
      "name": "python3",
      "display_name": "Python 3"
    },
    "language_info": {
      "name": "python"
    }
  },
  "cells": [
    {
      "cell_type": "markdown",
      "metadata": {
        "id": "view-in-github",
        "colab_type": "text"
      },
      "source": [
        "<a href=\"https://colab.research.google.com/github/e0524015/MED23CL202/blob/main/Intoduction_to_python_programming.ipynb\" target=\"_parent\"><img src=\"https://colab.research.google.com/assets/colab-badge.svg\" alt=\"Open In Colab\"/></a>"
      ]
    },
    {
      "cell_type": "code",
      "execution_count": null,
      "metadata": {
        "id": "CpyRU7x9Nzuo"
      },
      "outputs": [],
      "source": []
    },
    {
      "cell_type": "markdown",
      "source": [
        "# **Introduction to Python Programmimg**"
      ],
      "metadata": {
        "id": "OQrq67oFN2Ar"
      }
    },
    {
      "cell_type": "markdown",
      "source": [
        "Import STATEMENTS"
      ],
      "metadata": {
        "id": "Vkuy9kCtN93Z"
      }
    },
    {
      "cell_type": "code",
      "source": [
        "import os # import operating system packages\n",
        "# Get the current direction\n",
        "os.get cwd() # cwd stands for current networking directory\n",
        "os.chdir('/content/sample_data')"
      ],
      "metadata": {
        "id": "lapuypppOFLi"
      },
      "execution_count": null,
      "outputs": []
    },
    {
      "cell_type": "markdown",
      "source": [
        "## **Variables and Data Types**"
      ],
      "metadata": {
        "id": "WBdzNozrQARh"
      }
    },
    {
      "cell_type": "code",
      "source": [
        "x=5\n",
        "x\n",
        "5"
      ],
      "metadata": {
        "colab": {
          "base_uri": "https://localhost:8080/"
        },
        "id": "_u2tpyJ_PVQa",
        "outputId": "dc330a04-f2f2-4fe8-b3b0-fd67e1b9cbc3"
      },
      "execution_count": null,
      "outputs": [
        {
          "output_type": "execute_result",
          "data": {
            "text/plain": [
              "5"
            ]
          },
          "metadata": {},
          "execution_count": 1
        }
      ]
    },
    {
      "cell_type": "code",
      "source": [
        "x+2\n"
      ],
      "metadata": {
        "colab": {
          "base_uri": "https://localhost:8080/"
        },
        "id": "nZe4TJVEQNDJ",
        "outputId": "748ae4dc-72dd-440c-c0ae-0dba34aaef5a"
      },
      "execution_count": null,
      "outputs": [
        {
          "output_type": "execute_result",
          "data": {
            "text/plain": [
              "7"
            ]
          },
          "metadata": {},
          "execution_count": 2
        }
      ]
    },
    {
      "cell_type": "code",
      "source": [
        "x-3"
      ],
      "metadata": {
        "colab": {
          "base_uri": "https://localhost:8080/"
        },
        "id": "V2OUs2rKQcGM",
        "outputId": "83d0e501-6931-4104-f603-897cec093284"
      },
      "execution_count": null,
      "outputs": [
        {
          "output_type": "execute_result",
          "data": {
            "text/plain": [
              "2"
            ]
          },
          "metadata": {},
          "execution_count": 3
        }
      ]
    },
    {
      "cell_type": "code",
      "source": [
        "x*2"
      ],
      "metadata": {
        "colab": {
          "base_uri": "https://localhost:8080/"
        },
        "id": "imi-B4UOQgtB",
        "outputId": "0eedcc35-4e07-476a-82d3-6a4c42356f49"
      },
      "execution_count": null,
      "outputs": [
        {
          "output_type": "execute_result",
          "data": {
            "text/plain": [
              "10"
            ]
          },
          "metadata": {},
          "execution_count": 4
        }
      ]
    },
    {
      "cell_type": "code",
      "source": [
        "x**2"
      ],
      "metadata": {
        "colab": {
          "base_uri": "https://localhost:8080/"
        },
        "id": "0s_iazrVQlno",
        "outputId": "5c819b4f-e2d9-45f4-9172-052b803b40f1"
      },
      "execution_count": null,
      "outputs": [
        {
          "output_type": "execute_result",
          "data": {
            "text/plain": [
              "25"
            ]
          },
          "metadata": {},
          "execution_count": 5
        }
      ]
    },
    {
      "cell_type": "code",
      "source": [
        "x%2"
      ],
      "metadata": {
        "colab": {
          "base_uri": "https://localhost:8080/"
        },
        "id": "Il34BzXaQpE6",
        "outputId": "ebf43de2-5b31-4e14-c9bc-d1066fff86c5"
      },
      "execution_count": null,
      "outputs": [
        {
          "output_type": "execute_result",
          "data": {
            "text/plain": [
              "1"
            ]
          },
          "metadata": {},
          "execution_count": 6
        }
      ]
    },
    {
      "cell_type": "code",
      "source": [
        "x/float(2)"
      ],
      "metadata": {
        "colab": {
          "base_uri": "https://localhost:8080/"
        },
        "id": "JRJ1x9imQtTZ",
        "outputId": "954a5df9-e18e-498b-9e02-d3aae3fab6ea"
      },
      "execution_count": null,
      "outputs": [
        {
          "output_type": "execute_result",
          "data": {
            "text/plain": [
              "2.5"
            ]
          },
          "metadata": {},
          "execution_count": 7
        }
      ]
    },
    {
      "cell_type": "markdown",
      "source": [
        "# **Lists**"
      ],
      "metadata": {
        "id": "6WTy2SlwUjh7"
      }
    },
    {
      "cell_type": "code",
      "source": [
        "a='is'\n",
        "b='nice'\n",
        "my_list=['my','list',a,b]\n",
        "my_list2=[[4,5,6,7],[3,4,5,6]]"
      ],
      "metadata": {
        "id": "ai_5EhJSUqMJ"
      },
      "execution_count": null,
      "outputs": []
    },
    {
      "cell_type": "markdown",
      "source": [
        "**Selecting List Elements**"
      ],
      "metadata": {
        "id": "YhA3tSD9VPKS"
      }
    },
    {
      "cell_type": "code",
      "source": [
        "my_list[1]\n",
        "my_list[-3]\n",
        "my_list[1:3]\n",
        "my_list[1:]\n",
        "my_list[:3]\n",
        "my_list[:]\n",
        "my_list2[1][0]\n",
        "my_list2[1][:2]"
      ],
      "metadata": {
        "colab": {
          "base_uri": "https://localhost:8080/"
        },
        "id": "2xAbnScPVam5",
        "outputId": "2462ea02-0fa0-4e18-c8ec-9d1cb0bbfd1e"
      },
      "execution_count": null,
      "outputs": [
        {
          "output_type": "execute_result",
          "data": {
            "text/plain": [
              "[3, 4]"
            ]
          },
          "metadata": {},
          "execution_count": 9
        }
      ]
    },
    {
      "cell_type": "markdown",
      "source": [
        "**List Operations**"
      ],
      "metadata": {
        "id": "5xyLr_55WOtj"
      }
    },
    {
      "cell_type": "code",
      "source": [
        "my_list+my_list"
      ],
      "metadata": {
        "colab": {
          "base_uri": "https://localhost:8080/"
        },
        "id": "QpGM7xWSWXpZ",
        "outputId": "d84b3c1c-6b71-4e64-a258-acccaae5d52a"
      },
      "execution_count": null,
      "outputs": [
        {
          "output_type": "execute_result",
          "data": {
            "text/plain": [
              "['my', 'list', 'is', 'nice', 'my', 'list', 'is', 'nice']"
            ]
          },
          "metadata": {},
          "execution_count": 10
        }
      ]
    },
    {
      "cell_type": "code",
      "source": [
        "my_list*2"
      ],
      "metadata": {
        "colab": {
          "base_uri": "https://localhost:8080/"
        },
        "id": "1u1SBlk6WfcJ",
        "outputId": "d62083c5-1136-4840-ca16-36fe89af0f12"
      },
      "execution_count": null,
      "outputs": [
        {
          "output_type": "execute_result",
          "data": {
            "text/plain": [
              "['my', 'list', 'is', 'nice', 'my', 'list', 'is', 'nice']"
            ]
          },
          "metadata": {},
          "execution_count": 11
        }
      ]
    },
    {
      "cell_type": "code",
      "source": [
        "my_list2 > 4"
      ],
      "metadata": {
        "colab": {
          "base_uri": "https://localhost:8080/",
          "height": 141
        },
        "id": "xVXfZvFnWjAQ",
        "outputId": "2d6838f4-9905-4140-b595-084fbec3d3ad"
      },
      "execution_count": null,
      "outputs": [
        {
          "output_type": "error",
          "ename": "TypeError",
          "evalue": "'>' not supported between instances of 'list' and 'int'",
          "traceback": [
            "\u001b[0;31m---------------------------------------------------------------------------\u001b[0m",
            "\u001b[0;31mTypeError\u001b[0m                                 Traceback (most recent call last)",
            "\u001b[0;32m/tmp/ipython-input-3052520973.py\u001b[0m in \u001b[0;36m<cell line: 0>\u001b[0;34m()\u001b[0m\n\u001b[0;32m----> 1\u001b[0;31m \u001b[0mmy_list2\u001b[0m \u001b[0;34m>\u001b[0m \u001b[0;36m4\u001b[0m\u001b[0;34m\u001b[0m\u001b[0;34m\u001b[0m\u001b[0m\n\u001b[0m",
            "\u001b[0;31mTypeError\u001b[0m: '>' not supported between instances of 'list' and 'int'"
          ]
        }
      ]
    },
    {
      "cell_type": "markdown",
      "source": [
        "# **Accessing the element of the list**"
      ],
      "metadata": {
        "id": "P-Sn2eGWYYjQ"
      }
    },
    {
      "cell_type": "code",
      "source": [
        "#select the 0th element of the list x\n",
        "x[0]\n"
      ],
      "metadata": {
        "colab": {
          "base_uri": "https://localhost:8080/"
        },
        "id": "NFn-sunfYflA",
        "outputId": "18e42c65-fa77-49b5-a2eb-158ec0de9f50"
      },
      "execution_count": null,
      "outputs": [
        {
          "output_type": "execute_result",
          "data": {
            "text/plain": [
              "1"
            ]
          },
          "metadata": {},
          "execution_count": 28
        }
      ]
    },
    {
      "cell_type": "code",
      "source": [
        "\n",
        "#define the list\n",
        "x1=['a','b','c','d','e']\n"
      ],
      "metadata": {
        "id": "FdkPPnUGaxQB"
      },
      "execution_count": null,
      "outputs": []
    },
    {
      "cell_type": "code",
      "source": [
        "x=[1,2,3]\n",
        "y=[10,20,30]\n",
        "z=[x,y]\n",
        "print(z)\n",
        "u=x+y\n",
        "print(u)"
      ],
      "metadata": {
        "colab": {
          "base_uri": "https://localhost:8080/"
        },
        "id": "nsHtTuCKY_E_",
        "outputId": "1f2f56fc-0a35-4997-8d68-2c7feaaea40a"
      },
      "execution_count": null,
      "outputs": [
        {
          "output_type": "stream",
          "name": "stdout",
          "text": [
            "[[1, 2, 3], [10, 20, 30]]\n",
            "[1, 2, 3, 10, 20, 30]\n"
          ]
        }
      ]
    },
    {
      "cell_type": "code",
      "source": [
        "print(x)\n",
        "x[0]"
      ],
      "metadata": {
        "colab": {
          "base_uri": "https://localhost:8080/"
        },
        "id": "UgPxk3LmZUQB",
        "outputId": "47ad18c7-7e11-4d2e-b2c1-2c7d1eeabfde"
      },
      "execution_count": null,
      "outputs": [
        {
          "output_type": "stream",
          "name": "stdout",
          "text": [
            "[1, 2, 3]\n"
          ]
        },
        {
          "output_type": "execute_result",
          "data": {
            "text/plain": [
              "1"
            ]
          },
          "metadata": {},
          "execution_count": 17
        }
      ]
    },
    {
      "cell_type": "code",
      "source": [
        "x[-1]"
      ],
      "metadata": {
        "colab": {
          "base_uri": "https://localhost:8080/"
        },
        "id": "1f4wGkhRZdqZ",
        "outputId": "d18756a4-da39-454a-b5d6-4b7a436fb87e"
      },
      "execution_count": null,
      "outputs": [
        {
          "output_type": "execute_result",
          "data": {
            "text/plain": [
              "3"
            ]
          },
          "metadata": {},
          "execution_count": 18
        }
      ]
    },
    {
      "cell_type": "code",
      "source": [
        "#select the inclusive and last exclusive\n",
        "x[1:3]# in the range field value is included while last value is excluded"
      ],
      "metadata": {
        "colab": {
          "base_uri": "https://localhost:8080/"
        },
        "id": "DRsnKbaWZ0SQ",
        "outputId": "ad893d29-6a01-41ec-f992-8d1d04703e55"
      },
      "execution_count": null,
      "outputs": [
        {
          "output_type": "execute_result",
          "data": {
            "text/plain": [
              "[2, 3]"
            ]
          },
          "metadata": {},
          "execution_count": 19
        }
      ]
    },
    {
      "cell_type": "code",
      "source": [
        "#select the 2nd to the end of x1=['a','b','c','d','e']\n",
        "x1[2:]"
      ],
      "metadata": {
        "colab": {
          "base_uri": "https://localhost:8080/"
        },
        "id": "CrCJ-ynhaL0g",
        "outputId": "65b35269-6e9b-4dc3-b18a-60ee219641c2"
      },
      "execution_count": null,
      "outputs": [
        {
          "output_type": "execute_result",
          "data": {
            "text/plain": [
              "['c', 'd', 'e']"
            ]
          },
          "metadata": {},
          "execution_count": 23
        }
      ]
    },
    {
      "cell_type": "code",
      "source": [
        "#select the 0th to 3rd exclusive of x1=['a','b','c','d','e']\n",
        "x1[2:]\n",
        "x1[:3]"
      ],
      "metadata": {
        "colab": {
          "base_uri": "https://localhost:8080/"
        },
        "id": "PXCT7UiFbIco",
        "outputId": "bf18d09b-f62c-48f1-bfe5-ef6548b47409"
      },
      "execution_count": null,
      "outputs": [
        {
          "output_type": "execute_result",
          "data": {
            "text/plain": [
              "['a', 'b', 'c']"
            ]
          },
          "metadata": {},
          "execution_count": 24
        }
      ]
    },
    {
      "cell_type": "code",
      "source": [
        "#List operation : comma\n",
        "y=[10,20,30]\n",
        "y*3"
      ],
      "metadata": {
        "colab": {
          "base_uri": "https://localhost:8080/"
        },
        "id": "UAam6FKpbhqo",
        "outputId": "05433cc1-652f-47c6-98ed-2cc740e87188"
      },
      "execution_count": null,
      "outputs": [
        {
          "output_type": "execute_result",
          "data": {
            "text/plain": [
              "[10, 20, 30, 10, 20, 30, 10, 20, 30]"
            ]
          },
          "metadata": {},
          "execution_count": 27
        }
      ]
    },
    {
      "cell_type": "code",
      "source": [
        "y+y"
      ],
      "metadata": {
        "colab": {
          "base_uri": "https://localhost:8080/"
        },
        "id": "vGsboDUvbvbI",
        "outputId": "054b9428-b36c-4469-dfea-732e7fefe033"
      },
      "execution_count": null,
      "outputs": [
        {
          "output_type": "execute_result",
          "data": {
            "text/plain": [
              "[10, 20, 30, 10, 20, 30]"
            ]
          },
          "metadata": {},
          "execution_count": 26
        }
      ]
    }
  ]
}